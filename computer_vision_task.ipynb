{
 "cells": [
  {
   "cell_type": "code",
   "execution_count": 2,
   "id": "15c33658",
   "metadata": {},
   "outputs": [],
   "source": [
    "import cv2\n",
    "\n"
   ]
  },
  {
   "cell_type": "code",
   "execution_count": 26,
   "id": "21c45060",
   "metadata": {},
   "outputs": [],
   "source": [
    "# input image in grayscale\n",
    "img = cv2.imread(\"imran_khan.jpg\", 0)\n",
    "\n",
    "# Apply thresholding to segment foreground text from background\n",
    "threshold_value = 150\n",
    "max_value = 255\n",
    "ret, thresh = cv2.threshold(img, threshold_value, max_value, cv2.THRESH_BINARY)\n",
    "\n",
    "# Preprocess the image using morphological operations\n",
    "kernel = cv2.getStructuringElement(cv2.MORPH_RECT, (3, 3))\n",
    "morph = cv2.morphologyEx(thresh, cv2.MORPH_OPEN, kernel)\n",
    "\n",
    "# Apply a filter to smooth the image\n",
    "filtered = cv2.medianBlur(morph, 3)\n",
    "\n",
    "# Add text to the image\n",
    "font = cv2.FONT_HERSHEY_SIMPLEX\n",
    "text = \"Enhanced Text\"\n",
    "color = (100, 50, 50)\n",
    "thickness = 2\n",
    "size = cv2.getTextSize(text, font, 1, thickness)[0]\n",
    "x = int((img.shape[1] - size[0]) / 2)\n",
    "y = int((img.shape[0] + size[1]) / 2)\n",
    "cv2.putText(filtered, text, (x, y), font, 1, color, thickness, cv2.LINE_AA)\n",
    "\n",
    "# Save the output image\n",
    "cv2.imwrite(\"output_image.png\", filtered)\n",
    "cv2.namedWindow('imran_khan',cv2.WINDOW_NORMAL)\n",
    "cv2.imshow('imran_khan',filtered)\n",
    "cv2.waitKey(0)\n",
    "cv2.destroyAllWindows()\n",
    "\n"
   ]
  },
  {
   "cell_type": "code",
   "execution_count": null,
   "id": "135c862d",
   "metadata": {},
   "outputs": [],
   "source": []
  }
 ],
 "metadata": {
  "kernelspec": {
   "display_name": "Python 3 (ipykernel)",
   "language": "python",
   "name": "python3"
  },
  "language_info": {
   "codemirror_mode": {
    "name": "ipython",
    "version": 3
   },
   "file_extension": ".py",
   "mimetype": "text/x-python",
   "name": "python",
   "nbconvert_exporter": "python",
   "pygments_lexer": "ipython3",
   "version": "3.11.2"
  }
 },
 "nbformat": 4,
 "nbformat_minor": 5
}
